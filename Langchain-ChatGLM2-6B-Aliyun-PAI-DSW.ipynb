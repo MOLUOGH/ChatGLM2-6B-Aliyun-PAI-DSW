{
 "cells": [
  {
   "cell_type": "markdown",
   "id": "793d2009",
   "metadata": {},
   "source": [
    "# ChatGLM2-6B安装演示"
   ]
  },
  {
   "cell_type": "markdown",
   "id": "9fab4ab6-be4b-4206-ba12-8dad73bac833",
   "metadata": {
    "tags": []
   },
   "source": [
    "# 阿里云 DSW 一键安装ChatGLM2-6B脚本 By [MOLUO](https://www.mlvlog.com/1780.html)\n",
    "#### $\\color{#008000} {发布日期} $  :2023/07/09 \n",
    "#### $\\color{#008000} {更新日期} $  :2023/07/09 v1.0.1 增加细节"
   ]
  },
  {
   "cell_type": "markdown",
   "id": "f5d869fb",
   "metadata": {
    "jp-MarkdownHeadingCollapsed": true,
    "tags": []
   },
   "source": [
    "## 带webui and gradio的ChatGLM2-6B"
   ]
  },
  {
   "cell_type": "markdown",
   "id": "39df08ff-45e4-4a86-add4-a5af9cc7f7d6",
   "metadata": {},
   "source": [
    "### 安装 使用工具"
   ]
  },
  {
   "cell_type": "code",
   "execution_count": null,
   "id": "567fe4a3-a897-48b6-bde2-0afb3d064c80",
   "metadata": {
    "ExecutionIndicator": {
     "show": true
    },
    "tags": []
   },
   "outputs": [],
   "source": [
    "!git clone https://github.com/MOLUOGH/ChatGLM2-6B-Aliyun-PAI-DSW/\n",
    "!mv ChatGLM2-6B-Aliyun-PAI-DSW ChatGLM2-6B\n",
    "# 如果还是下载失败，请访问https://github.com/MOLUOGH/ChatGLM2-6B-Aliyun-PAI-DSW/，自行下载源代码文件解压\n",
    "# 解压后的文件夹改成'ChatGLM2-6B'，绝对路径为/mnt/workspace/ChatGLM2-6B\n",
    "# 请注意官方地址为https://github.com/THUDM/ChatGLM2-6B，上面的地址仅是修改模型路径的fork，如果不放心可以git原地址，自己再去修改模型地址"
   ]
  },
  {
   "cell_type": "markdown",
   "id": "ff8d2aaf-0f30-46fa-9328-971e6cae6bdb",
   "metadata": {},
   "source": [
    "### 下载模型（二选一）"
   ]
  },
  {
   "cell_type": "markdown",
   "id": "7e8bf698-cb96-4d9f-a6ee-133be968727d",
   "metadata": {},
   "source": [
    "#### （1）国内阿里"
   ]
  },
  {
   "cell_type": "code",
   "execution_count": null,
   "id": "401acb7c-810f-4a44-b9cc-d3620463a9b7",
   "metadata": {
    "scrolled": true,
    "tags": []
   },
   "outputs": [],
   "source": [
    "!pip install modelscope"
   ]
  },
  {
   "cell_type": "code",
   "execution_count": null,
   "id": "e76fb07f-a820-43ee-aa95-c644cdc96f64",
   "metadata": {
    "ExecutionIndicator": {
     "show": true
    },
    "tags": []
   },
   "outputs": [],
   "source": [
    "from modelscope.hub.snapshot_download import snapshot_download\n",
    "model_dir = snapshot_download('ZhipuAI/chatglm2-6b', cache_dir='/mnt/workspace/ChatGLM2-6B', revision='v1.0.6')"
   ]
  },
  {
   "cell_type": "markdown",
   "id": "968059d0-e9df-4ba2-9527-4e2565c795b1",
   "metadata": {},
   "source": [
    "##### 国内阿里下载源的补充文件下载"
   ]
  },
  {
   "cell_type": "code",
   "execution_count": null,
   "id": "8825a5ad-4083-4bbf-9a0d-472128f5d812",
   "metadata": {
    "ExecutionIndicator": {
     "show": true
    },
    "tags": []
   },
   "outputs": [],
   "source": [
    "!wget -P /mnt/workspace/ChatGLM2-6B/ZhipuAI/chatglm2-6b https://huggingface.co/THUDM/chatglm2-6b/resolve/main/config.json\n",
    "!wget -P /mnt/workspace/ChatGLM2-6B/ZhipuAI/chatglm2-6b https://huggingface.co/THUDM/chatglm2-6b/resolve/main/configuration_chatglm.py\n",
    "!wget -P /mnt/workspace/ChatGLM2-6B/ZhipuAI/chatglm2-6b https://huggingface.co/THUDM/chatglm2-6b/resolve/main/modeling_chatglm.py\n",
    "!wget -P /mnt/workspace/ChatGLM2-6B/ZhipuAI/chatglm2-6b https://huggingface.co/THUDM/chatglm2-6b/resolve/main/pytorch_model.bin.index.json\n",
    "!wget -P /mnt/workspace/ChatGLM2-6B/ZhipuAI/chatglm2-6b https://huggingface.co/THUDM/chatglm2-6b/resolve/main/quantization.py\n",
    "!wget -P /mnt/workspace/ChatGLM2-6B/ZhipuAI/chatglm2-6b https://huggingface.co/THUDM/chatglm2-6b/resolve/main/tokenization_chatglm.py\n",
    "!wget -P /mnt/workspace/ChatGLM2-6B/ZhipuAI/chatglm2-6b https://huggingface.co/THUDM/chatglm2-6b/resolve/main/tokenizer.model\n",
    "!wget -P /mnt/workspace/ChatGLM2-6B/ZhipuAI/chatglm2-6b https://huggingface.co/THUDM/chatglm2-6b/resolve/main/tokenizer_config.json"
   ]
  },
  {
   "cell_type": "markdown",
   "id": "a3a06cd0-2416-41a6-a2b0-6052acdb2510",
   "metadata": {},
   "source": [
    "#### （2）国外huggingface （最后运行的时候需要自己修改模型存放路径）"
   ]
  },
  {
   "cell_type": "code",
   "execution_count": null,
   "id": "46f10b81-a658-4414-8325-a34ae96c3eb5",
   "metadata": {
    "ExecutionIndicator": {
     "show": true
    },
    "tags": []
   },
   "outputs": [],
   "source": [
    "!git clone https://huggingface.co/THUDM/chatglm2-6b /mnt/workspace/ChatGLM2-6B/ZhipuAI/chatglm2-6b"
   ]
  },
  {
   "cell_type": "markdown",
   "id": "bce3cbfc",
   "metadata": {},
   "source": [
    "### 安装依赖"
   ]
  },
  {
   "cell_type": "code",
   "execution_count": null,
   "id": "9ea3b00b",
   "metadata": {
    "tags": []
   },
   "outputs": [],
   "source": [
    "!pip install gradio\n",
    "!pip install -r ChatGLM2-6B/requirements.txt"
   ]
  },
  {
   "cell_type": "markdown",
   "id": "fca2e93d",
   "metadata": {},
   "source": [
    "### 运行ChatGLM2-6B Web-demo"
   ]
  },
  {
   "cell_type": "code",
   "execution_count": null,
   "id": "827cc93a",
   "metadata": {
    "tags": []
   },
   "outputs": [],
   "source": [
    "!python ChatGLM2-6B/web_demo.py"
   ]
  },
  {
   "cell_type": "markdown",
   "id": "e89116f1",
   "metadata": {
    "jp-MarkdownHeadingCollapsed": true,
    "tags": []
   },
   "source": [
    "## 依托modelscope的命令行ChatGLM2-6B(特点简便)"
   ]
  },
  {
   "cell_type": "code",
   "execution_count": null,
   "id": "d9c1d740-a8a0-416a-a8dc-61deab1178e8",
   "metadata": {
    "tags": []
   },
   "outputs": [],
   "source": [
    "!pip install modelscope"
   ]
  },
  {
   "cell_type": "code",
   "execution_count": null,
   "id": "c21e2415-ab2f-4fa3-856b-66ce7efc50ec",
   "metadata": {
    "ExecutionIndicator": {
     "show": true
    },
    "tags": []
   },
   "outputs": [],
   "source": [
    "import os\n",
    "os.environ['MODELSCOPE_CACHE']='/mnt/workspace/ChatGLM2-6B/model'\n",
    "from modelscope.utils.constant import Tasks\n",
    "from modelscope import Model\n",
    "from modelscope.pipelines import pipeline\n",
    "model = Model.from_pretrained('ZhipuAI/chatglm2-6b', device_map='auto', revision='v1.0.6')\n",
    "pipe = pipeline(task=Tasks.chat, model=model)\n",
    "inputs = {'text':'你好', 'history': []}\n",
    "result = pipe(inputs)\n",
    "inputs = {'text':'你知道清华大学吗？', 'history': result['history']}\n",
    "result = pipe(inputs)\n",
    "print(result)\n"
   ]
  },
  {
   "cell_type": "markdown",
   "id": "cc26fcb4-5234-4290-b7d4-184fdf654d6c",
   "metadata": {
    "jp-MarkdownHeadingCollapsed": true,
    "tags": []
   },
   "source": [
    "## langchain-ChatGLM"
   ]
  },
  {
   "cell_type": "code",
   "execution_count": null,
   "id": "52a79fbc-0d1a-491e-a6ee-9baa5eb9bee7",
   "metadata": {
    "ExecutionIndicator": {
     "show": true
    },
    "tags": []
   },
   "outputs": [],
   "source": [
    "!git clone https://github.com/imClumsyPanda/langchain-ChatGLM\n",
    "# 如果下载失败，可以尝试底下的加速镜像\n",
    "# !git clone https://gitclone.com/github.com/imClumsyPanda/langchain-ChatGLM"
   ]
  },
  {
   "cell_type": "code",
   "execution_count": null,
   "id": "2c1fd6ed-d1a7-429e-ab1d-387a0794518e",
   "metadata": {
    "tags": []
   },
   "outputs": [],
   "source": [
    "!pip install modelscope"
   ]
  },
  {
   "cell_type": "code",
   "execution_count": null,
   "id": "34e127b2-0f70-47c8-a40e-72d8d5fcbaf3",
   "metadata": {
    "ExecutionIndicator": {
     "show": true
    },
    "tags": []
   },
   "outputs": [],
   "source": [
    "from modelscope.hub.snapshot_download import snapshot_download\n",
    "model_dir = snapshot_download('thomas/text2vec-large-chinese', cache_dir='/mnt/workspace/langchain-ChatGLM/text2vec-large-chinese', revision='v1.0.0')"
   ]
  },
  {
   "cell_type": "markdown",
   "id": "943c0a4e-2439-44c5-9ecf-3d60f37cda55",
   "metadata": {
    "tags": []
   },
   "source": [
    " ### ChatGLM2-6B模型下载请看上面的webui and gradio-ChatGLM2-6B的下载方法！！！"
   ]
  },
  {
   "cell_type": "code",
   "execution_count": null,
   "id": "a7c58dae-36b8-4332-97e3-953ba54ad14d",
   "metadata": {
    "ExecutionIndicator": {
     "show": true
    },
    "tags": []
   },
   "outputs": [],
   "source": [
    "!pip install gradio\n",
    "!pip install -r langchain-ChatGLM/requirements.txt\n",
    "!pip install accelerate\n",
    "!pip install bitsandbytes"
   ]
  },
  {
   "cell_type": "code",
   "execution_count": null,
   "id": "292e8347-4a76-4804-915f-c9316268758b",
   "metadata": {
    "ExecutionIndicator": {
     "show": true
    },
    "tags": []
   },
   "outputs": [],
   "source": [
    "# 请看好自己的python版本，部分版本不用执行，如果没有出现ModuleNotFoundError: No module named 'tools.infer'就不用执行\n",
    "!mv /opt/conda/lib/python3.8/site-packages/paddleocr/tools /opt/conda/lib/python3.8"
   ]
  },
  {
   "cell_type": "code",
   "execution_count": null,
   "id": "fea1d6ad-55d9-4b4d-881b-a76718a93b94",
   "metadata": {
    "tags": []
   },
   "outputs": [],
   "source": [
    "!python langchain-ChatGLM/webui.py"
   ]
  }
 ],
 "metadata": {
  "kernelspec": {
   "display_name": "Python 3 (ipykernel)",
   "language": "python",
   "name": "python3"
  },
  "language_info": {
   "codemirror_mode": {
    "name": "ipython",
    "version": 3
   },
   "file_extension": ".py",
   "mimetype": "text/x-python",
   "name": "python",
   "nbconvert_exporter": "python",
   "pygments_lexer": "ipython3",
   "version": "3.9.15"
  }
 },
 "nbformat": 4,
 "nbformat_minor": 5
}
